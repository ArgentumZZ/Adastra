{
 "cells": [
  {
   "cell_type": "code",
   "execution_count": 1,
   "id": "f5eba6bd",
   "metadata": {},
   "outputs": [],
   "source": [
    "# import libraries\n",
    "import numpy as np\n",
    "import pandas as pd\n",
    "import logging\n",
    "import json\n",
    "from typing import Union, List"
   ]
  },
  {
   "cell_type": "code",
   "execution_count": 2,
   "id": "93529977",
   "metadata": {},
   "outputs": [],
   "source": [
    "# define functions\n",
    "\n",
    "def read_my_data(filepath: str, low_memory: bool) -> Union[pd.DataFrame, None]:\n",
    "    \"\"\"\n",
    "    Use pandas to read a csv file located at filepath.\n",
    "\n",
    "    filepath: the location of the csv file.\n",
    "    low_memory: a boolean flag used to control the memory usage when reading large CSV files.\n",
    "    return: a pandas DataFrame object, or None if an error occurs.\n",
    "    \"\"\"\n",
    "    try:\n",
    "        logging.info(\"Reading the file located at {}\".format(filepath))\n",
    "        df = pd.read_csv(filepath, low_memory=low_memory)\n",
    "        return df\n",
    "    except FileNotFoundError as e:\n",
    "        logging.error(\"File not found at {}\".format(filepath))\n",
    "    except Exception as e:\n",
    "        logging.error(\"An error occurred while reading the file: {}\".format(str(e)))\n",
    "    return None\n",
    "\n",
    "def get_unique_values(data: pd.DataFrame, column: str) -> Union[int, None]:\n",
    "    \"\"\"\n",
    "    Calculate the number of uniques values in a pandas DataFrame column.\n",
    "\n",
    "    data: pandas DataFrame as input.\n",
    "    column: the name of a column.\n",
    "    return: the number of unique values, or None if an error occurs.\n",
    "    \"\"\"\n",
    "    try:\n",
    "        logging.info(\"Calculating the unique values for {}.\".format(column))\n",
    "        unique_values = data[column].nunique()\n",
    "        return unique_values\n",
    "    except KeyError:\n",
    "        logging.error(\"Column {} not found in the DataFrame.\".format(column))\n",
    "    except Exception as e:\n",
    "        logging.error(\"An error occurred while calculating unique values for column {} : {}\".format(column, str(e)))\n",
    "    return None\n",
    "\n",
    "def calculate_average_value(data: pd.DataFrame, column: str) -> Union[float, None]:\n",
    "    \"\"\"\n",
    "    Calculate the mean value of a numeric column, rounded to two digits.\n",
    "\n",
    "    data: pandas DataFrame as input.\n",
    "    column: name of the column.\n",
    "    return: the average value of the column, or None if an error occurs.\n",
    "    \"\"\"\n",
    "    try:\n",
    "        if pd.api.types.is_numeric_dtype(data[column]):\n",
    "            logging.info(\"Calculating the mean value for column: {}\".format(column))\n",
    "            average_rating = np.mean(data[column])\n",
    "            rounded_rating = round(average_rating, 2)\n",
    "            return rounded_rating\n",
    "        else:\n",
    "            raise ValueError(\"Column {} is not numeric.\".format(column))\n",
    "    except KeyError as e:\n",
    "        logging.error(\"Column {} not found in DataFrame.\".format(column))\n",
    "    except Exception as e:\n",
    "        logging.error(\"An error occurred while calculating the average value for column {} : {}\".format(column, str(e)))\n",
    "    return None\n",
    "\n",
    "def merge_two_dataframes(data_1: pd.DataFrame,\n",
    "                         data_2: pd.DataFrame,\n",
    "                         how: str, on: str) -> Union[pd.DataFrame, None]:\n",
    "    \"\"\"\n",
    "    Merge two pandas dataframes by specifying the join operation and the column used for the join.\n",
    "\n",
    "    data_1: the first pandas DataFrame.\n",
    "    data_2: the second pandas DataFrame.\n",
    "    how: possible variations are: ['inner', 'outer', 'left', 'right']\n",
    "    on: name of the column used to join the DataFrames.\n",
    "    return: a merged pandas DataFrame, or None if an error occurs.\n",
    "    \"\"\"\n",
    "    try:\n",
    "        logging.info('Merging dataframes using {} operation on {} column.'.format(how, on))\n",
    "        merged_df = pd.merge(data_1, data_2, how=how, on=on)\n",
    "        return merged_df\n",
    "    except KeyError as e:\n",
    "        logging.error(\"Column {} not found in one of the DataFrames.\".format(on))\n",
    "    except Exception as e:\n",
    "        logging.error(\"An error occurred while merging the DataFrames: {}.\".format(str(e)))\n",
    "    return None\n",
    "\n",
    "def groupby_and_sort(data: pd.DataFrame,\n",
    "                     groupby_column: str,\n",
    "                     column: str) -> Union[pd.DataFrame, None]:\n",
    "    \"\"\"\n",
    "    Groupby operation on a specified column, followed by sorting operation.\n",
    "\n",
    "    data: pandas DataFrame.\n",
    "    groupby_column: the column on which groupby operation will be performed.\n",
    "    column: the column on which an average value will be calculated, the values must be numeric.\n",
    "    return: pandas DataFrame, or None if an error occurs.\n",
    "    \"\"\"\n",
    "    try:\n",
    "        if pd.api.types.is_numeric_dtype(data[column]):\n",
    "            logging.info(\"Performing a GroupBy operation on {} and calculating average on column {}.\".format(groupby_column, column))\n",
    "            average_column_value = data.groupby(groupby_column)[column].mean()\n",
    "            sorted_df = average_column_value.sort_values(ascending=False)\n",
    "            return sorted_df\n",
    "        else:\n",
    "            raise ValueError(\"Column '{}' is not numeric.\".format(column))\n",
    "    except KeyError as e:\n",
    "        logging.error(\"Column {} not found in DataFrame.\".format(column))\n",
    "    except Exception as e:\n",
    "        logging.error(\"An error occurred while performing GroupBy and sorting: {}.\".format(str(e)))\n",
    "    return None\n",
    "\n",
    "def extract_from_json(genre_list_str: str) -> Union[list, None]:\n",
    "    \"\"\"\n",
    "    Extract movie genres from a JSON-formatted string.\n",
    "\n",
    "    genre_list_str: A string representing a JSON list containing dictionaries with genre information.\n",
    "    return: A list of movie genres, or None if an error occurs.\n",
    "    \"\"\"\n",
    "    try:\n",
    "        logging.info(\"Extracting genres from JSON string\")\n",
    "\n",
    "        # Replace single quotes with double quotes to ensure JSON compatibility.\n",
    "        genre_list_str = genre_list_str.replace(\"'\", '\"')\n",
    "\n",
    "        # Load JSON string into a Python list of dictionaries\n",
    "        genre_list = json.loads(genre_list_str)\n",
    "\n",
    "        # Extract genre names from dictionaries and return as a list\n",
    "        return [genre['name'] for genre in genre_list]\n",
    "\n",
    "    except json.JSONDecodeError as e:\n",
    "        logging.error(\"Error decoding JSON string: {}\".format(e))\n",
    "    except KeyError as e:\n",
    "        logging.error(\"Key 'name' not found in genre dictionary: {}\".format(e))\n",
    "    except Exception as e:\n",
    "        logging.error(\"An error occurred while extracting genres: {}\".format(e))\n",
    "    return None"
   ]
  },
  {
   "cell_type": "markdown",
   "id": "15d21a08",
   "metadata": {},
   "source": [
    "# 1. Load the dataset from a CSV file."
   ]
  },
  {
   "cell_type": "code",
   "execution_count": 3,
   "id": "780b821d",
   "metadata": {},
   "outputs": [],
   "source": [
    "# Remove the restriction on the number of displayed columns\n",
    "pd.options.display.max_columns = None\n",
    "\n",
    "# Load the dataset\n",
    "df = read_my_data(filepath=\"C:/Users/Mihail/Downloads/archive/movies_metadata.csv\", low_memory=False)"
   ]
  },
  {
   "cell_type": "code",
   "execution_count": 4,
   "id": "b5bb2ad9",
   "metadata": {},
   "outputs": [
    {
     "data": {
      "text/plain": [
       "(45466, 24)"
      ]
     },
     "execution_count": 4,
     "metadata": {},
     "output_type": "execute_result"
    }
   ],
   "source": [
    "# The shape is (number of rows, number of colums)\n",
    "df.shape"
   ]
  },
  {
   "cell_type": "code",
   "execution_count": 5,
   "id": "13bd7b95",
   "metadata": {},
   "outputs": [
    {
     "name": "stdout",
     "output_type": "stream",
     "text": [
      "<class 'pandas.core.frame.DataFrame'>\n",
      "RangeIndex: 45466 entries, 0 to 45465\n",
      "Data columns (total 24 columns):\n",
      " #   Column                 Non-Null Count  Dtype  \n",
      "---  ------                 --------------  -----  \n",
      " 0   adult                  45466 non-null  object \n",
      " 1   belongs_to_collection  4494 non-null   object \n",
      " 2   budget                 45466 non-null  object \n",
      " 3   genres                 45466 non-null  object \n",
      " 4   homepage               7782 non-null   object \n",
      " 5   id                     45466 non-null  object \n",
      " 6   imdb_id                45449 non-null  object \n",
      " 7   original_language      45455 non-null  object \n",
      " 8   original_title         45466 non-null  object \n",
      " 9   overview               44512 non-null  object \n",
      " 10  popularity             45461 non-null  object \n",
      " 11  poster_path            45080 non-null  object \n",
      " 12  production_companies   45463 non-null  object \n",
      " 13  production_countries   45463 non-null  object \n",
      " 14  release_date           45379 non-null  object \n",
      " 15  revenue                45460 non-null  float64\n",
      " 16  runtime                45203 non-null  float64\n",
      " 17  spoken_languages       45460 non-null  object \n",
      " 18  status                 45379 non-null  object \n",
      " 19  tagline                20412 non-null  object \n",
      " 20  title                  45460 non-null  object \n",
      " 21  video                  45460 non-null  object \n",
      " 22  vote_average           45460 non-null  float64\n",
      " 23  vote_count             45460 non-null  float64\n",
      "dtypes: float64(4), object(20)\n",
      "memory usage: 8.3+ MB\n"
     ]
    }
   ],
   "source": [
    "# General info about the dataset\n",
    "df.info()"
   ]
  },
  {
   "cell_type": "code",
   "execution_count": 6,
   "id": "0e50e600",
   "metadata": {},
   "outputs": [
    {
     "data": {
      "text/html": [
       "<div>\n",
       "<style scoped>\n",
       "    .dataframe tbody tr th:only-of-type {\n",
       "        vertical-align: middle;\n",
       "    }\n",
       "\n",
       "    .dataframe tbody tr th {\n",
       "        vertical-align: top;\n",
       "    }\n",
       "\n",
       "    .dataframe thead th {\n",
       "        text-align: right;\n",
       "    }\n",
       "</style>\n",
       "<table border=\"1\" class=\"dataframe\">\n",
       "  <thead>\n",
       "    <tr style=\"text-align: right;\">\n",
       "      <th></th>\n",
       "      <th>adult</th>\n",
       "      <th>belongs_to_collection</th>\n",
       "      <th>budget</th>\n",
       "      <th>genres</th>\n",
       "      <th>homepage</th>\n",
       "      <th>id</th>\n",
       "      <th>imdb_id</th>\n",
       "      <th>original_language</th>\n",
       "      <th>original_title</th>\n",
       "      <th>overview</th>\n",
       "      <th>popularity</th>\n",
       "      <th>poster_path</th>\n",
       "      <th>production_companies</th>\n",
       "      <th>production_countries</th>\n",
       "      <th>release_date</th>\n",
       "      <th>revenue</th>\n",
       "      <th>runtime</th>\n",
       "      <th>spoken_languages</th>\n",
       "      <th>status</th>\n",
       "      <th>tagline</th>\n",
       "      <th>title</th>\n",
       "      <th>video</th>\n",
       "      <th>vote_average</th>\n",
       "      <th>vote_count</th>\n",
       "    </tr>\n",
       "  </thead>\n",
       "  <tbody>\n",
       "    <tr>\n",
       "      <th>0</th>\n",
       "      <td>False</td>\n",
       "      <td>{'id': 10194, 'name': 'Toy Story Collection', ...</td>\n",
       "      <td>30000000</td>\n",
       "      <td>[{'id': 16, 'name': 'Animation'}, {'id': 35, '...</td>\n",
       "      <td>http://toystory.disney.com/toy-story</td>\n",
       "      <td>862</td>\n",
       "      <td>tt0114709</td>\n",
       "      <td>en</td>\n",
       "      <td>Toy Story</td>\n",
       "      <td>Led by Woody, Andy's toys live happily in his ...</td>\n",
       "      <td>21.946943</td>\n",
       "      <td>/rhIRbceoE9lR4veEXuwCC2wARtG.jpg</td>\n",
       "      <td>[{'name': 'Pixar Animation Studios', 'id': 3}]</td>\n",
       "      <td>[{'iso_3166_1': 'US', 'name': 'United States o...</td>\n",
       "      <td>1995-10-30</td>\n",
       "      <td>373554033.0</td>\n",
       "      <td>81.0</td>\n",
       "      <td>[{'iso_639_1': 'en', 'name': 'English'}]</td>\n",
       "      <td>Released</td>\n",
       "      <td>NaN</td>\n",
       "      <td>Toy Story</td>\n",
       "      <td>False</td>\n",
       "      <td>7.7</td>\n",
       "      <td>5415.0</td>\n",
       "    </tr>\n",
       "    <tr>\n",
       "      <th>1</th>\n",
       "      <td>False</td>\n",
       "      <td>NaN</td>\n",
       "      <td>65000000</td>\n",
       "      <td>[{'id': 12, 'name': 'Adventure'}, {'id': 14, '...</td>\n",
       "      <td>NaN</td>\n",
       "      <td>8844</td>\n",
       "      <td>tt0113497</td>\n",
       "      <td>en</td>\n",
       "      <td>Jumanji</td>\n",
       "      <td>When siblings Judy and Peter discover an encha...</td>\n",
       "      <td>17.015539</td>\n",
       "      <td>/vzmL6fP7aPKNKPRTFnZmiUfciyV.jpg</td>\n",
       "      <td>[{'name': 'TriStar Pictures', 'id': 559}, {'na...</td>\n",
       "      <td>[{'iso_3166_1': 'US', 'name': 'United States o...</td>\n",
       "      <td>1995-12-15</td>\n",
       "      <td>262797249.0</td>\n",
       "      <td>104.0</td>\n",
       "      <td>[{'iso_639_1': 'en', 'name': 'English'}, {'iso...</td>\n",
       "      <td>Released</td>\n",
       "      <td>Roll the dice and unleash the excitement!</td>\n",
       "      <td>Jumanji</td>\n",
       "      <td>False</td>\n",
       "      <td>6.9</td>\n",
       "      <td>2413.0</td>\n",
       "    </tr>\n",
       "    <tr>\n",
       "      <th>2</th>\n",
       "      <td>False</td>\n",
       "      <td>{'id': 119050, 'name': 'Grumpy Old Men Collect...</td>\n",
       "      <td>0</td>\n",
       "      <td>[{'id': 10749, 'name': 'Romance'}, {'id': 35, ...</td>\n",
       "      <td>NaN</td>\n",
       "      <td>15602</td>\n",
       "      <td>tt0113228</td>\n",
       "      <td>en</td>\n",
       "      <td>Grumpier Old Men</td>\n",
       "      <td>A family wedding reignites the ancient feud be...</td>\n",
       "      <td>11.7129</td>\n",
       "      <td>/6ksm1sjKMFLbO7UY2i6G1ju9SML.jpg</td>\n",
       "      <td>[{'name': 'Warner Bros.', 'id': 6194}, {'name'...</td>\n",
       "      <td>[{'iso_3166_1': 'US', 'name': 'United States o...</td>\n",
       "      <td>1995-12-22</td>\n",
       "      <td>0.0</td>\n",
       "      <td>101.0</td>\n",
       "      <td>[{'iso_639_1': 'en', 'name': 'English'}]</td>\n",
       "      <td>Released</td>\n",
       "      <td>Still Yelling. Still Fighting. Still Ready for...</td>\n",
       "      <td>Grumpier Old Men</td>\n",
       "      <td>False</td>\n",
       "      <td>6.5</td>\n",
       "      <td>92.0</td>\n",
       "    </tr>\n",
       "    <tr>\n",
       "      <th>3</th>\n",
       "      <td>False</td>\n",
       "      <td>NaN</td>\n",
       "      <td>16000000</td>\n",
       "      <td>[{'id': 35, 'name': 'Comedy'}, {'id': 18, 'nam...</td>\n",
       "      <td>NaN</td>\n",
       "      <td>31357</td>\n",
       "      <td>tt0114885</td>\n",
       "      <td>en</td>\n",
       "      <td>Waiting to Exhale</td>\n",
       "      <td>Cheated on, mistreated and stepped on, the wom...</td>\n",
       "      <td>3.859495</td>\n",
       "      <td>/16XOMpEaLWkrcPqSQqhTmeJuqQl.jpg</td>\n",
       "      <td>[{'name': 'Twentieth Century Fox Film Corporat...</td>\n",
       "      <td>[{'iso_3166_1': 'US', 'name': 'United States o...</td>\n",
       "      <td>1995-12-22</td>\n",
       "      <td>81452156.0</td>\n",
       "      <td>127.0</td>\n",
       "      <td>[{'iso_639_1': 'en', 'name': 'English'}]</td>\n",
       "      <td>Released</td>\n",
       "      <td>Friends are the people who let you be yourself...</td>\n",
       "      <td>Waiting to Exhale</td>\n",
       "      <td>False</td>\n",
       "      <td>6.1</td>\n",
       "      <td>34.0</td>\n",
       "    </tr>\n",
       "    <tr>\n",
       "      <th>4</th>\n",
       "      <td>False</td>\n",
       "      <td>{'id': 96871, 'name': 'Father of the Bride Col...</td>\n",
       "      <td>0</td>\n",
       "      <td>[{'id': 35, 'name': 'Comedy'}]</td>\n",
       "      <td>NaN</td>\n",
       "      <td>11862</td>\n",
       "      <td>tt0113041</td>\n",
       "      <td>en</td>\n",
       "      <td>Father of the Bride Part II</td>\n",
       "      <td>Just when George Banks has recovered from his ...</td>\n",
       "      <td>8.387519</td>\n",
       "      <td>/e64sOI48hQXyru7naBFyssKFxVd.jpg</td>\n",
       "      <td>[{'name': 'Sandollar Productions', 'id': 5842}...</td>\n",
       "      <td>[{'iso_3166_1': 'US', 'name': 'United States o...</td>\n",
       "      <td>1995-02-10</td>\n",
       "      <td>76578911.0</td>\n",
       "      <td>106.0</td>\n",
       "      <td>[{'iso_639_1': 'en', 'name': 'English'}]</td>\n",
       "      <td>Released</td>\n",
       "      <td>Just When His World Is Back To Normal... He's ...</td>\n",
       "      <td>Father of the Bride Part II</td>\n",
       "      <td>False</td>\n",
       "      <td>5.7</td>\n",
       "      <td>173.0</td>\n",
       "    </tr>\n",
       "  </tbody>\n",
       "</table>\n",
       "</div>"
      ],
      "text/plain": [
       "   adult                              belongs_to_collection    budget  \\\n",
       "0  False  {'id': 10194, 'name': 'Toy Story Collection', ...  30000000   \n",
       "1  False                                                NaN  65000000   \n",
       "2  False  {'id': 119050, 'name': 'Grumpy Old Men Collect...         0   \n",
       "3  False                                                NaN  16000000   \n",
       "4  False  {'id': 96871, 'name': 'Father of the Bride Col...         0   \n",
       "\n",
       "                                              genres  \\\n",
       "0  [{'id': 16, 'name': 'Animation'}, {'id': 35, '...   \n",
       "1  [{'id': 12, 'name': 'Adventure'}, {'id': 14, '...   \n",
       "2  [{'id': 10749, 'name': 'Romance'}, {'id': 35, ...   \n",
       "3  [{'id': 35, 'name': 'Comedy'}, {'id': 18, 'nam...   \n",
       "4                     [{'id': 35, 'name': 'Comedy'}]   \n",
       "\n",
       "                               homepage     id    imdb_id original_language  \\\n",
       "0  http://toystory.disney.com/toy-story    862  tt0114709                en   \n",
       "1                                   NaN   8844  tt0113497                en   \n",
       "2                                   NaN  15602  tt0113228                en   \n",
       "3                                   NaN  31357  tt0114885                en   \n",
       "4                                   NaN  11862  tt0113041                en   \n",
       "\n",
       "                original_title  \\\n",
       "0                    Toy Story   \n",
       "1                      Jumanji   \n",
       "2             Grumpier Old Men   \n",
       "3            Waiting to Exhale   \n",
       "4  Father of the Bride Part II   \n",
       "\n",
       "                                            overview popularity  \\\n",
       "0  Led by Woody, Andy's toys live happily in his ...  21.946943   \n",
       "1  When siblings Judy and Peter discover an encha...  17.015539   \n",
       "2  A family wedding reignites the ancient feud be...    11.7129   \n",
       "3  Cheated on, mistreated and stepped on, the wom...   3.859495   \n",
       "4  Just when George Banks has recovered from his ...   8.387519   \n",
       "\n",
       "                        poster_path  \\\n",
       "0  /rhIRbceoE9lR4veEXuwCC2wARtG.jpg   \n",
       "1  /vzmL6fP7aPKNKPRTFnZmiUfciyV.jpg   \n",
       "2  /6ksm1sjKMFLbO7UY2i6G1ju9SML.jpg   \n",
       "3  /16XOMpEaLWkrcPqSQqhTmeJuqQl.jpg   \n",
       "4  /e64sOI48hQXyru7naBFyssKFxVd.jpg   \n",
       "\n",
       "                                production_companies  \\\n",
       "0     [{'name': 'Pixar Animation Studios', 'id': 3}]   \n",
       "1  [{'name': 'TriStar Pictures', 'id': 559}, {'na...   \n",
       "2  [{'name': 'Warner Bros.', 'id': 6194}, {'name'...   \n",
       "3  [{'name': 'Twentieth Century Fox Film Corporat...   \n",
       "4  [{'name': 'Sandollar Productions', 'id': 5842}...   \n",
       "\n",
       "                                production_countries release_date  \\\n",
       "0  [{'iso_3166_1': 'US', 'name': 'United States o...   1995-10-30   \n",
       "1  [{'iso_3166_1': 'US', 'name': 'United States o...   1995-12-15   \n",
       "2  [{'iso_3166_1': 'US', 'name': 'United States o...   1995-12-22   \n",
       "3  [{'iso_3166_1': 'US', 'name': 'United States o...   1995-12-22   \n",
       "4  [{'iso_3166_1': 'US', 'name': 'United States o...   1995-02-10   \n",
       "\n",
       "       revenue  runtime                                   spoken_languages  \\\n",
       "0  373554033.0     81.0           [{'iso_639_1': 'en', 'name': 'English'}]   \n",
       "1  262797249.0    104.0  [{'iso_639_1': 'en', 'name': 'English'}, {'iso...   \n",
       "2          0.0    101.0           [{'iso_639_1': 'en', 'name': 'English'}]   \n",
       "3   81452156.0    127.0           [{'iso_639_1': 'en', 'name': 'English'}]   \n",
       "4   76578911.0    106.0           [{'iso_639_1': 'en', 'name': 'English'}]   \n",
       "\n",
       "     status                                            tagline  \\\n",
       "0  Released                                                NaN   \n",
       "1  Released          Roll the dice and unleash the excitement!   \n",
       "2  Released  Still Yelling. Still Fighting. Still Ready for...   \n",
       "3  Released  Friends are the people who let you be yourself...   \n",
       "4  Released  Just When His World Is Back To Normal... He's ...   \n",
       "\n",
       "                         title  video  vote_average  vote_count  \n",
       "0                    Toy Story  False           7.7      5415.0  \n",
       "1                      Jumanji  False           6.9      2413.0  \n",
       "2             Grumpier Old Men  False           6.5        92.0  \n",
       "3            Waiting to Exhale  False           6.1        34.0  \n",
       "4  Father of the Bride Part II  False           5.7       173.0  "
      ]
     },
     "execution_count": 6,
     "metadata": {},
     "output_type": "execute_result"
    }
   ],
   "source": [
    "# Explore the first 5 rows\n",
    "df.head()"
   ]
  },
  {
   "cell_type": "code",
   "execution_count": 7,
   "id": "324353be",
   "metadata": {},
   "outputs": [],
   "source": [
    "# Column \"id\" contains dates that have to be removed\n",
    "df = df[~df['id'].str.contains(r'\\d{4}-\\d{2}-\\d{2}', na=False)]"
   ]
  },
  {
   "cell_type": "code",
   "execution_count": 8,
   "id": "04c026e1",
   "metadata": {},
   "outputs": [],
   "source": [
    "# Here, column \"id\" is actually \"tmdbId\", so we rename it\n",
    "df.rename(columns={'id': 'tmdbId'}, inplace=True)"
   ]
  },
  {
   "cell_type": "code",
   "execution_count": 9,
   "id": "e05dd8e1",
   "metadata": {},
   "outputs": [],
   "source": [
    "# fix the data type of the column \"tmdbId\"\n",
    "df[\"tmdbId\"] = df[\"tmdbId\"].astype('int64')"
   ]
  },
  {
   "cell_type": "code",
   "execution_count": 10,
   "id": "f2b4933c",
   "metadata": {},
   "outputs": [],
   "source": [
    "# reset the index\n",
    "df = df.reset_index(drop=True)"
   ]
  },
  {
   "cell_type": "code",
   "execution_count": 11,
   "id": "a7674c1b",
   "metadata": {},
   "outputs": [
    {
     "data": {
      "text/html": [
       "<div>\n",
       "<style scoped>\n",
       "    .dataframe tbody tr th:only-of-type {\n",
       "        vertical-align: middle;\n",
       "    }\n",
       "\n",
       "    .dataframe tbody tr th {\n",
       "        vertical-align: top;\n",
       "    }\n",
       "\n",
       "    .dataframe thead th {\n",
       "        text-align: right;\n",
       "    }\n",
       "</style>\n",
       "<table border=\"1\" class=\"dataframe\">\n",
       "  <thead>\n",
       "    <tr style=\"text-align: right;\">\n",
       "      <th></th>\n",
       "      <th>tmdbId</th>\n",
       "      <th>title</th>\n",
       "      <th>genres</th>\n",
       "      <th>release_date</th>\n",
       "    </tr>\n",
       "  </thead>\n",
       "  <tbody>\n",
       "    <tr>\n",
       "      <th>0</th>\n",
       "      <td>862</td>\n",
       "      <td>Toy Story</td>\n",
       "      <td>[{'id': 16, 'name': 'Animation'}, {'id': 35, '...</td>\n",
       "      <td>1995-10-30</td>\n",
       "    </tr>\n",
       "    <tr>\n",
       "      <th>1</th>\n",
       "      <td>8844</td>\n",
       "      <td>Jumanji</td>\n",
       "      <td>[{'id': 12, 'name': 'Adventure'}, {'id': 14, '...</td>\n",
       "      <td>1995-12-15</td>\n",
       "    </tr>\n",
       "    <tr>\n",
       "      <th>2</th>\n",
       "      <td>15602</td>\n",
       "      <td>Grumpier Old Men</td>\n",
       "      <td>[{'id': 10749, 'name': 'Romance'}, {'id': 35, ...</td>\n",
       "      <td>1995-12-22</td>\n",
       "    </tr>\n",
       "    <tr>\n",
       "      <th>3</th>\n",
       "      <td>31357</td>\n",
       "      <td>Waiting to Exhale</td>\n",
       "      <td>[{'id': 35, 'name': 'Comedy'}, {'id': 18, 'nam...</td>\n",
       "      <td>1995-12-22</td>\n",
       "    </tr>\n",
       "    <tr>\n",
       "      <th>4</th>\n",
       "      <td>11862</td>\n",
       "      <td>Father of the Bride Part II</td>\n",
       "      <td>[{'id': 35, 'name': 'Comedy'}]</td>\n",
       "      <td>1995-02-10</td>\n",
       "    </tr>\n",
       "  </tbody>\n",
       "</table>\n",
       "</div>"
      ],
      "text/plain": [
       "   tmdbId                        title  \\\n",
       "0     862                    Toy Story   \n",
       "1    8844                      Jumanji   \n",
       "2   15602             Grumpier Old Men   \n",
       "3   31357            Waiting to Exhale   \n",
       "4   11862  Father of the Bride Part II   \n",
       "\n",
       "                                              genres release_date  \n",
       "0  [{'id': 16, 'name': 'Animation'}, {'id': 35, '...   1995-10-30  \n",
       "1  [{'id': 12, 'name': 'Adventure'}, {'id': 14, '...   1995-12-15  \n",
       "2  [{'id': 10749, 'name': 'Romance'}, {'id': 35, ...   1995-12-22  \n",
       "3  [{'id': 35, 'name': 'Comedy'}, {'id': 18, 'nam...   1995-12-22  \n",
       "4                     [{'id': 35, 'name': 'Comedy'}]   1995-02-10  "
      ]
     },
     "execution_count": 11,
     "metadata": {},
     "output_type": "execute_result"
    }
   ],
   "source": [
    "# Won't use the other columns, so we'll build a smaller dataset\n",
    "df_movies = df[ ['tmdbId', 'title', 'genres', 'release_date'] ]\n",
    "df_movies.head(5)"
   ]
  },
  {
   "cell_type": "code",
   "execution_count": 12,
   "id": "19cc700d",
   "metadata": {},
   "outputs": [
    {
     "name": "stdout",
     "output_type": "stream",
     "text": [
      "<class 'pandas.core.frame.DataFrame'>\n",
      "RangeIndex: 45463 entries, 0 to 45462\n",
      "Data columns (total 4 columns):\n",
      " #   Column        Non-Null Count  Dtype \n",
      "---  ------        --------------  ----- \n",
      " 0   tmdbId        45463 non-null  int64 \n",
      " 1   title         45460 non-null  object\n",
      " 2   genres        45463 non-null  object\n",
      " 3   release_date  45376 non-null  object\n",
      "dtypes: int64(1), object(3)\n",
      "memory usage: 1.4+ MB\n"
     ]
    }
   ],
   "source": [
    "# General info about the smaller dataset\n",
    "df_movies.info()"
   ]
  },
  {
   "cell_type": "code",
   "execution_count": 13,
   "id": "dbc995ff",
   "metadata": {},
   "outputs": [
    {
     "data": {
      "text/plain": [
       "tmdbId           0\n",
       "title            3\n",
       "genres           0\n",
       "release_date    87\n",
       "dtype: int64"
      ]
     },
     "execution_count": 13,
     "metadata": {},
     "output_type": "execute_result"
    }
   ],
   "source": [
    "# check for missing values\n",
    "df_movies.isnull().sum()"
   ]
  },
  {
   "cell_type": "code",
   "execution_count": 14,
   "id": "0b129b93",
   "metadata": {},
   "outputs": [],
   "source": [
    "# drop the rows with missing values\n",
    "df_movies = df_movies.dropna(axis=0)"
   ]
  },
  {
   "cell_type": "code",
   "execution_count": 15,
   "id": "06bc5ed1",
   "metadata": {},
   "outputs": [
    {
     "data": {
      "text/plain": [
       "tmdbId          0\n",
       "title           0\n",
       "genres          0\n",
       "release_date    0\n",
       "dtype: int64"
      ]
     },
     "execution_count": 15,
     "metadata": {},
     "output_type": "execute_result"
    }
   ],
   "source": [
    "# check again\n",
    "df_movies.isnull().sum()"
   ]
  },
  {
   "cell_type": "code",
   "execution_count": 16,
   "id": "b0f1a9f7",
   "metadata": {},
   "outputs": [
    {
     "name": "stdout",
     "output_type": "stream",
     "text": [
      "<class 'pandas.core.frame.DataFrame'>\n",
      "Index: 45376 entries, 0 to 45462\n",
      "Data columns (total 4 columns):\n",
      " #   Column        Non-Null Count  Dtype \n",
      "---  ------        --------------  ----- \n",
      " 0   tmdbId        45376 non-null  int64 \n",
      " 1   title         45376 non-null  object\n",
      " 2   genres        45376 non-null  object\n",
      " 3   release_date  45376 non-null  object\n",
      "dtypes: int64(1), object(3)\n",
      "memory usage: 1.7+ MB\n"
     ]
    }
   ],
   "source": [
    "# check again\n",
    "df_movies.info()"
   ]
  },
  {
   "cell_type": "markdown",
   "id": "500522e9",
   "metadata": {},
   "source": [
    "# 2. Print the number of the unique movies in the dataset."
   ]
  },
  {
   "cell_type": "code",
   "execution_count": 17,
   "id": "cc281cda",
   "metadata": {},
   "outputs": [
    {
     "name": "stdout",
     "output_type": "stream",
     "text": [
      "The number of unique movies is: 42196\n"
     ]
    }
   ],
   "source": [
    "print(\"The number of unique movies is:\", df_movies['title'].nunique())"
   ]
  },
  {
   "cell_type": "code",
   "execution_count": 18,
   "id": "89e9cc77",
   "metadata": {},
   "outputs": [
    {
     "name": "stdout",
     "output_type": "stream",
     "text": [
      "The number of unique movies is: 42196\n"
     ]
    }
   ],
   "source": [
    "print(\"The number of unique movies is:\", get_unique_values(df_movies, 'title'))"
   ]
  },
  {
   "cell_type": "markdown",
   "id": "f7bed6f2",
   "metadata": {},
   "source": [
    "# 3. Print the average rating of all the movies."
   ]
  },
  {
   "cell_type": "code",
   "execution_count": 19,
   "id": "13fcca1e",
   "metadata": {},
   "outputs": [
    {
     "data": {
      "text/html": [
       "<div>\n",
       "<style scoped>\n",
       "    .dataframe tbody tr th:only-of-type {\n",
       "        vertical-align: middle;\n",
       "    }\n",
       "\n",
       "    .dataframe tbody tr th {\n",
       "        vertical-align: top;\n",
       "    }\n",
       "\n",
       "    .dataframe thead th {\n",
       "        text-align: right;\n",
       "    }\n",
       "</style>\n",
       "<table border=\"1\" class=\"dataframe\">\n",
       "  <thead>\n",
       "    <tr style=\"text-align: right;\">\n",
       "      <th></th>\n",
       "      <th>userId</th>\n",
       "      <th>movieId</th>\n",
       "      <th>rating</th>\n",
       "      <th>timestamp</th>\n",
       "    </tr>\n",
       "  </thead>\n",
       "  <tbody>\n",
       "    <tr>\n",
       "      <th>0</th>\n",
       "      <td>1</td>\n",
       "      <td>31</td>\n",
       "      <td>2.5</td>\n",
       "      <td>1260759144</td>\n",
       "    </tr>\n",
       "    <tr>\n",
       "      <th>1</th>\n",
       "      <td>1</td>\n",
       "      <td>1029</td>\n",
       "      <td>3.0</td>\n",
       "      <td>1260759179</td>\n",
       "    </tr>\n",
       "    <tr>\n",
       "      <th>2</th>\n",
       "      <td>1</td>\n",
       "      <td>1061</td>\n",
       "      <td>3.0</td>\n",
       "      <td>1260759182</td>\n",
       "    </tr>\n",
       "    <tr>\n",
       "      <th>3</th>\n",
       "      <td>1</td>\n",
       "      <td>1129</td>\n",
       "      <td>2.0</td>\n",
       "      <td>1260759185</td>\n",
       "    </tr>\n",
       "    <tr>\n",
       "      <th>4</th>\n",
       "      <td>1</td>\n",
       "      <td>1172</td>\n",
       "      <td>4.0</td>\n",
       "      <td>1260759205</td>\n",
       "    </tr>\n",
       "  </tbody>\n",
       "</table>\n",
       "</div>"
      ],
      "text/plain": [
       "   userId  movieId  rating   timestamp\n",
       "0       1       31     2.5  1260759144\n",
       "1       1     1029     3.0  1260759179\n",
       "2       1     1061     3.0  1260759182\n",
       "3       1     1129     2.0  1260759185\n",
       "4       1     1172     4.0  1260759205"
      ]
     },
     "execution_count": 19,
     "metadata": {},
     "output_type": "execute_result"
    }
   ],
   "source": [
    "# Load the ratings dataset\n",
    "df_ratings = read_my_data(\"C:/Users/Mihail/Downloads/archive/ratings_small.csv\", low_memory=False)\n",
    "df_ratings.head(5)"
   ]
  },
  {
   "cell_type": "code",
   "execution_count": 20,
   "id": "55ca1720",
   "metadata": {},
   "outputs": [
    {
     "data": {
      "text/plain": [
       "(100004, 4)"
      ]
     },
     "execution_count": 20,
     "metadata": {},
     "output_type": "execute_result"
    }
   ],
   "source": [
    "# rows, columns\n",
    "df_ratings.shape"
   ]
  },
  {
   "cell_type": "code",
   "execution_count": 21,
   "id": "61543f1f",
   "metadata": {},
   "outputs": [
    {
     "name": "stdout",
     "output_type": "stream",
     "text": [
      "<class 'pandas.core.frame.DataFrame'>\n",
      "RangeIndex: 100004 entries, 0 to 100003\n",
      "Data columns (total 4 columns):\n",
      " #   Column     Non-Null Count   Dtype  \n",
      "---  ------     --------------   -----  \n",
      " 0   userId     100004 non-null  int64  \n",
      " 1   movieId    100004 non-null  int64  \n",
      " 2   rating     100004 non-null  float64\n",
      " 3   timestamp  100004 non-null  int64  \n",
      "dtypes: float64(1), int64(3)\n",
      "memory usage: 3.1 MB\n"
     ]
    }
   ],
   "source": [
    "# general info\n",
    "df_ratings.info()"
   ]
  },
  {
   "cell_type": "code",
   "execution_count": 22,
   "id": "2e816902",
   "metadata": {},
   "outputs": [
    {
     "data": {
      "text/plain": [
       "userId       0\n",
       "movieId      0\n",
       "rating       0\n",
       "timestamp    0\n",
       "dtype: int64"
      ]
     },
     "execution_count": 22,
     "metadata": {},
     "output_type": "execute_result"
    }
   ],
   "source": [
    "# check for missing values\n",
    "df_ratings.isnull().sum()"
   ]
  },
  {
   "cell_type": "code",
   "execution_count": 23,
   "id": "f9983b4b",
   "metadata": {},
   "outputs": [
    {
     "name": "stdout",
     "output_type": "stream",
     "text": [
      "The average ratings of all movies is: 3.54\n"
     ]
    }
   ],
   "source": [
    "# calculate the average rating\n",
    "average_rating = np.mean(df_ratings['rating'])\n",
    "print(\"The average ratings of all movies is:\", round(average_rating, 2))"
   ]
  },
  {
   "cell_type": "code",
   "execution_count": 24,
   "id": "75edbb54",
   "metadata": {},
   "outputs": [
    {
     "data": {
      "text/plain": [
       "3.54"
      ]
     },
     "execution_count": 24,
     "metadata": {},
     "output_type": "execute_result"
    }
   ],
   "source": [
    "# using the function to calculate the average\n",
    "calculate_average_value(df_ratings, 'rating')"
   ]
  },
  {
   "cell_type": "markdown",
   "id": "dfbd9ada",
   "metadata": {},
   "source": [
    "# 4. Print the top 5 highest rated movies."
   ]
  },
  {
   "cell_type": "code",
   "execution_count": 25,
   "id": "e460fc20",
   "metadata": {},
   "outputs": [
    {
     "data": {
      "text/html": [
       "<div>\n",
       "<style scoped>\n",
       "    .dataframe tbody tr th:only-of-type {\n",
       "        vertical-align: middle;\n",
       "    }\n",
       "\n",
       "    .dataframe tbody tr th {\n",
       "        vertical-align: top;\n",
       "    }\n",
       "\n",
       "    .dataframe thead th {\n",
       "        text-align: right;\n",
       "    }\n",
       "</style>\n",
       "<table border=\"1\" class=\"dataframe\">\n",
       "  <thead>\n",
       "    <tr style=\"text-align: right;\">\n",
       "      <th></th>\n",
       "      <th>movieId</th>\n",
       "      <th>imdbId</th>\n",
       "      <th>tmdbId</th>\n",
       "    </tr>\n",
       "  </thead>\n",
       "  <tbody>\n",
       "    <tr>\n",
       "      <th>0</th>\n",
       "      <td>1</td>\n",
       "      <td>114709</td>\n",
       "      <td>862.0</td>\n",
       "    </tr>\n",
       "    <tr>\n",
       "      <th>1</th>\n",
       "      <td>2</td>\n",
       "      <td>113497</td>\n",
       "      <td>8844.0</td>\n",
       "    </tr>\n",
       "    <tr>\n",
       "      <th>2</th>\n",
       "      <td>3</td>\n",
       "      <td>113228</td>\n",
       "      <td>15602.0</td>\n",
       "    </tr>\n",
       "    <tr>\n",
       "      <th>3</th>\n",
       "      <td>4</td>\n",
       "      <td>114885</td>\n",
       "      <td>31357.0</td>\n",
       "    </tr>\n",
       "    <tr>\n",
       "      <th>4</th>\n",
       "      <td>5</td>\n",
       "      <td>113041</td>\n",
       "      <td>11862.0</td>\n",
       "    </tr>\n",
       "  </tbody>\n",
       "</table>\n",
       "</div>"
      ],
      "text/plain": [
       "   movieId  imdbId   tmdbId\n",
       "0        1  114709    862.0\n",
       "1        2  113497   8844.0\n",
       "2        3  113228  15602.0\n",
       "3        4  114885  31357.0\n",
       "4        5  113041  11862.0"
      ]
     },
     "execution_count": 25,
     "metadata": {},
     "output_type": "execute_result"
    }
   ],
   "source": [
    "# Load the small links dataset.\n",
    "df_links = read_my_data(\"C:/Users/Mihail/Downloads/archive/links_small.csv\", low_memory=False)\n",
    "df_links.head()"
   ]
  },
  {
   "cell_type": "code",
   "execution_count": 26,
   "id": "3a3e2034",
   "metadata": {},
   "outputs": [
    {
     "data": {
      "text/plain": [
       "(9125, 3)"
      ]
     },
     "execution_count": 26,
     "metadata": {},
     "output_type": "execute_result"
    }
   ],
   "source": [
    "# numbers of rows and columns\n",
    "df_links.shape"
   ]
  },
  {
   "cell_type": "code",
   "execution_count": 27,
   "id": "458d936f",
   "metadata": {},
   "outputs": [
    {
     "name": "stdout",
     "output_type": "stream",
     "text": [
      "<class 'pandas.core.frame.DataFrame'>\n",
      "RangeIndex: 9125 entries, 0 to 9124\n",
      "Data columns (total 3 columns):\n",
      " #   Column   Non-Null Count  Dtype  \n",
      "---  ------   --------------  -----  \n",
      " 0   movieId  9125 non-null   int64  \n",
      " 1   imdbId   9125 non-null   int64  \n",
      " 2   tmdbId   9112 non-null   float64\n",
      "dtypes: float64(1), int64(2)\n",
      "memory usage: 214.0 KB\n"
     ]
    }
   ],
   "source": [
    "# general info\n",
    "df_links.info()"
   ]
  },
  {
   "cell_type": "code",
   "execution_count": 28,
   "id": "46e1424e",
   "metadata": {},
   "outputs": [
    {
     "data": {
      "text/plain": [
       "movieId     0\n",
       "imdbId      0\n",
       "tmdbId     13\n",
       "dtype: int64"
      ]
     },
     "execution_count": 28,
     "metadata": {},
     "output_type": "execute_result"
    }
   ],
   "source": [
    "# check for missing values\n",
    "df_links.isnull().sum()"
   ]
  },
  {
   "cell_type": "code",
   "execution_count": 29,
   "id": "ea8995d1",
   "metadata": {},
   "outputs": [],
   "source": [
    "# drop the missing values\n",
    "df_links = df_links.dropna(axis=0)"
   ]
  },
  {
   "cell_type": "code",
   "execution_count": 30,
   "id": "a238c70c",
   "metadata": {},
   "outputs": [
    {
     "data": {
      "text/plain": [
       "movieId    0\n",
       "imdbId     0\n",
       "tmdbId     0\n",
       "dtype: int64"
      ]
     },
     "execution_count": 30,
     "metadata": {},
     "output_type": "execute_result"
    }
   ],
   "source": [
    "# check again\n",
    "df_links.isna().sum()"
   ]
  },
  {
   "cell_type": "code",
   "execution_count": 31,
   "id": "1c133ece",
   "metadata": {},
   "outputs": [],
   "source": [
    "# fix the data type of the column \"tmdbId\"\n",
    "df_links['tmdbId'] = df_links[\"tmdbId\"].astype('int64')"
   ]
  },
  {
   "cell_type": "code",
   "execution_count": 32,
   "id": "f648abd1",
   "metadata": {},
   "outputs": [],
   "source": [
    "# reset the index\n",
    "df_links = df_links.reset_index(drop=True)"
   ]
  },
  {
   "cell_type": "code",
   "execution_count": 33,
   "id": "83a3fb86",
   "metadata": {},
   "outputs": [],
   "source": [
    "# Inner SQL Join\n",
    "merged_df = merge_two_dataframes(df_ratings, df_links, how='inner', on='movieId')"
   ]
  },
  {
   "cell_type": "code",
   "execution_count": 34,
   "id": "6d71eb73",
   "metadata": {},
   "outputs": [
    {
     "data": {
      "text/plain": [
       "(99933, 6)"
      ]
     },
     "execution_count": 34,
     "metadata": {},
     "output_type": "execute_result"
    }
   ],
   "source": [
    "merged_df.shape"
   ]
  },
  {
   "cell_type": "code",
   "execution_count": 35,
   "id": "b225c695",
   "metadata": {},
   "outputs": [
    {
     "name": "stdout",
     "output_type": "stream",
     "text": [
      "<class 'pandas.core.frame.DataFrame'>\n",
      "RangeIndex: 99933 entries, 0 to 99932\n",
      "Data columns (total 6 columns):\n",
      " #   Column     Non-Null Count  Dtype  \n",
      "---  ------     --------------  -----  \n",
      " 0   userId     99933 non-null  int64  \n",
      " 1   movieId    99933 non-null  int64  \n",
      " 2   rating     99933 non-null  float64\n",
      " 3   timestamp  99933 non-null  int64  \n",
      " 4   imdbId     99933 non-null  int64  \n",
      " 5   tmdbId     99933 non-null  int64  \n",
      "dtypes: float64(1), int64(5)\n",
      "memory usage: 4.6 MB\n"
     ]
    }
   ],
   "source": [
    "merged_df.info()"
   ]
  },
  {
   "cell_type": "code",
   "execution_count": 36,
   "id": "df81fbfc",
   "metadata": {},
   "outputs": [],
   "source": [
    "# another SQL inner join with pandas\n",
    "df_rated_movies = merge_two_dataframes(merged_df, df_movies, how='inner', on='tmdbId')"
   ]
  },
  {
   "cell_type": "code",
   "execution_count": 37,
   "id": "9d79ae0d",
   "metadata": {},
   "outputs": [
    {
     "data": {
      "text/plain": [
       "(99850, 9)"
      ]
     },
     "execution_count": 37,
     "metadata": {},
     "output_type": "execute_result"
    }
   ],
   "source": [
    "df_rated_movies.shape"
   ]
  },
  {
   "cell_type": "code",
   "execution_count": 38,
   "id": "48747959",
   "metadata": {},
   "outputs": [
    {
     "data": {
      "text/html": [
       "<div>\n",
       "<style scoped>\n",
       "    .dataframe tbody tr th:only-of-type {\n",
       "        vertical-align: middle;\n",
       "    }\n",
       "\n",
       "    .dataframe tbody tr th {\n",
       "        vertical-align: top;\n",
       "    }\n",
       "\n",
       "    .dataframe thead th {\n",
       "        text-align: right;\n",
       "    }\n",
       "</style>\n",
       "<table border=\"1\" class=\"dataframe\">\n",
       "  <thead>\n",
       "    <tr style=\"text-align: right;\">\n",
       "      <th></th>\n",
       "      <th>userId</th>\n",
       "      <th>movieId</th>\n",
       "      <th>rating</th>\n",
       "      <th>timestamp</th>\n",
       "      <th>imdbId</th>\n",
       "      <th>tmdbId</th>\n",
       "      <th>title</th>\n",
       "      <th>genres</th>\n",
       "      <th>release_date</th>\n",
       "    </tr>\n",
       "  </thead>\n",
       "  <tbody>\n",
       "    <tr>\n",
       "      <th>0</th>\n",
       "      <td>1</td>\n",
       "      <td>31</td>\n",
       "      <td>2.5</td>\n",
       "      <td>1260759144</td>\n",
       "      <td>112792</td>\n",
       "      <td>9909</td>\n",
       "      <td>Dangerous Minds</td>\n",
       "      <td>[{'id': 18, 'name': 'Drama'}, {'id': 80, 'name...</td>\n",
       "      <td>1995-08-11</td>\n",
       "    </tr>\n",
       "    <tr>\n",
       "      <th>1</th>\n",
       "      <td>7</td>\n",
       "      <td>31</td>\n",
       "      <td>3.0</td>\n",
       "      <td>851868750</td>\n",
       "      <td>112792</td>\n",
       "      <td>9909</td>\n",
       "      <td>Dangerous Minds</td>\n",
       "      <td>[{'id': 18, 'name': 'Drama'}, {'id': 80, 'name...</td>\n",
       "      <td>1995-08-11</td>\n",
       "    </tr>\n",
       "    <tr>\n",
       "      <th>2</th>\n",
       "      <td>31</td>\n",
       "      <td>31</td>\n",
       "      <td>4.0</td>\n",
       "      <td>1273541953</td>\n",
       "      <td>112792</td>\n",
       "      <td>9909</td>\n",
       "      <td>Dangerous Minds</td>\n",
       "      <td>[{'id': 18, 'name': 'Drama'}, {'id': 80, 'name...</td>\n",
       "      <td>1995-08-11</td>\n",
       "    </tr>\n",
       "    <tr>\n",
       "      <th>3</th>\n",
       "      <td>32</td>\n",
       "      <td>31</td>\n",
       "      <td>4.0</td>\n",
       "      <td>834828440</td>\n",
       "      <td>112792</td>\n",
       "      <td>9909</td>\n",
       "      <td>Dangerous Minds</td>\n",
       "      <td>[{'id': 18, 'name': 'Drama'}, {'id': 80, 'name...</td>\n",
       "      <td>1995-08-11</td>\n",
       "    </tr>\n",
       "    <tr>\n",
       "      <th>4</th>\n",
       "      <td>36</td>\n",
       "      <td>31</td>\n",
       "      <td>3.0</td>\n",
       "      <td>847057202</td>\n",
       "      <td>112792</td>\n",
       "      <td>9909</td>\n",
       "      <td>Dangerous Minds</td>\n",
       "      <td>[{'id': 18, 'name': 'Drama'}, {'id': 80, 'name...</td>\n",
       "      <td>1995-08-11</td>\n",
       "    </tr>\n",
       "  </tbody>\n",
       "</table>\n",
       "</div>"
      ],
      "text/plain": [
       "   userId  movieId  rating   timestamp  imdbId  tmdbId            title  \\\n",
       "0       1       31     2.5  1260759144  112792    9909  Dangerous Minds   \n",
       "1       7       31     3.0   851868750  112792    9909  Dangerous Minds   \n",
       "2      31       31     4.0  1273541953  112792    9909  Dangerous Minds   \n",
       "3      32       31     4.0   834828440  112792    9909  Dangerous Minds   \n",
       "4      36       31     3.0   847057202  112792    9909  Dangerous Minds   \n",
       "\n",
       "                                              genres release_date  \n",
       "0  [{'id': 18, 'name': 'Drama'}, {'id': 80, 'name...   1995-08-11  \n",
       "1  [{'id': 18, 'name': 'Drama'}, {'id': 80, 'name...   1995-08-11  \n",
       "2  [{'id': 18, 'name': 'Drama'}, {'id': 80, 'name...   1995-08-11  \n",
       "3  [{'id': 18, 'name': 'Drama'}, {'id': 80, 'name...   1995-08-11  \n",
       "4  [{'id': 18, 'name': 'Drama'}, {'id': 80, 'name...   1995-08-11  "
      ]
     },
     "execution_count": 38,
     "metadata": {},
     "output_type": "execute_result"
    }
   ],
   "source": [
    "df_rated_movies.head()"
   ]
  },
  {
   "cell_type": "code",
   "execution_count": 39,
   "id": "0e812162",
   "metadata": {},
   "outputs": [
    {
     "name": "stdout",
     "output_type": "stream",
     "text": [
      "<class 'pandas.core.frame.DataFrame'>\n",
      "RangeIndex: 99850 entries, 0 to 99849\n",
      "Data columns (total 9 columns):\n",
      " #   Column        Non-Null Count  Dtype  \n",
      "---  ------        --------------  -----  \n",
      " 0   userId        99850 non-null  int64  \n",
      " 1   movieId       99850 non-null  int64  \n",
      " 2   rating        99850 non-null  float64\n",
      " 3   timestamp     99850 non-null  int64  \n",
      " 4   imdbId        99850 non-null  int64  \n",
      " 5   tmdbId        99850 non-null  int64  \n",
      " 6   title         99850 non-null  object \n",
      " 7   genres        99850 non-null  object \n",
      " 8   release_date  99850 non-null  object \n",
      "dtypes: float64(1), int64(5), object(3)\n",
      "memory usage: 6.9+ MB\n"
     ]
    }
   ],
   "source": [
    "df_rated_movies.info()"
   ]
  },
  {
   "cell_type": "code",
   "execution_count": 40,
   "id": "26147b8b",
   "metadata": {},
   "outputs": [
    {
     "data": {
      "text/plain": [
       "userId          0\n",
       "movieId         0\n",
       "rating          0\n",
       "timestamp       0\n",
       "imdbId          0\n",
       "tmdbId          0\n",
       "title           0\n",
       "genres          0\n",
       "release_date    0\n",
       "dtype: int64"
      ]
     },
     "execution_count": 40,
     "metadata": {},
     "output_type": "execute_result"
    }
   ],
   "source": [
    "df_rated_movies.isnull().sum()"
   ]
  },
  {
   "cell_type": "code",
   "execution_count": 41,
   "id": "4a357d7f",
   "metadata": {},
   "outputs": [],
   "source": [
    "# group by 'title' and sort by average 'rating'\n",
    "sorted_df_ratings = groupby_and_sort(df_rated_movies, 'title', 'rating')"
   ]
  },
  {
   "cell_type": "code",
   "execution_count": 42,
   "id": "d1145509",
   "metadata": {},
   "outputs": [
    {
     "data": {
      "text/plain": [
       "title\n",
       "Female Perversions    5.0\n",
       "Lake of Fire          5.0\n",
       "Lamerica              5.0\n",
       "The Family Stone      5.0\n",
       "Riding Giants         5.0\n",
       "Name: rating, dtype: float64"
      ]
     },
     "execution_count": 42,
     "metadata": {},
     "output_type": "execute_result"
    }
   ],
   "source": [
    "sorted_df_ratings.head()"
   ]
  },
  {
   "cell_type": "markdown",
   "id": "82fb6bc0",
   "metadata": {},
   "source": [
    "# 5. Print the number of movies released each year."
   ]
  },
  {
   "cell_type": "code",
   "execution_count": 43,
   "id": "bc766ca2",
   "metadata": {},
   "outputs": [],
   "source": [
    "# Extract the year and assign it to the same column\n",
    "df_rated_movies['release_date'] = (pd.to_datetime(df_rated_movies['release_date'])).dt.year"
   ]
  },
  {
   "cell_type": "code",
   "execution_count": 44,
   "id": "658f32ef",
   "metadata": {},
   "outputs": [
    {
     "data": {
      "text/plain": [
       "(99850, 9)"
      ]
     },
     "execution_count": 44,
     "metadata": {},
     "output_type": "execute_result"
    }
   ],
   "source": [
    "df_rated_movies.shape"
   ]
  },
  {
   "cell_type": "code",
   "execution_count": 45,
   "id": "4a058751",
   "metadata": {},
   "outputs": [
    {
     "name": "stdout",
     "output_type": "stream",
     "text": [
      "<class 'pandas.core.frame.DataFrame'>\n",
      "RangeIndex: 99850 entries, 0 to 99849\n",
      "Data columns (total 9 columns):\n",
      " #   Column        Non-Null Count  Dtype  \n",
      "---  ------        --------------  -----  \n",
      " 0   userId        99850 non-null  int64  \n",
      " 1   movieId       99850 non-null  int64  \n",
      " 2   rating        99850 non-null  float64\n",
      " 3   timestamp     99850 non-null  int64  \n",
      " 4   imdbId        99850 non-null  int64  \n",
      " 5   tmdbId        99850 non-null  int64  \n",
      " 6   title         99850 non-null  object \n",
      " 7   genres        99850 non-null  object \n",
      " 8   release_date  99850 non-null  int32  \n",
      "dtypes: float64(1), int32(1), int64(5), object(2)\n",
      "memory usage: 6.5+ MB\n"
     ]
    }
   ],
   "source": [
    "df_rated_movies.info()"
   ]
  },
  {
   "cell_type": "code",
   "execution_count": 46,
   "id": "73599143",
   "metadata": {},
   "outputs": [
    {
     "data": {
      "text/html": [
       "<div>\n",
       "<style scoped>\n",
       "    .dataframe tbody tr th:only-of-type {\n",
       "        vertical-align: middle;\n",
       "    }\n",
       "\n",
       "    .dataframe tbody tr th {\n",
       "        vertical-align: top;\n",
       "    }\n",
       "\n",
       "    .dataframe thead th {\n",
       "        text-align: right;\n",
       "    }\n",
       "</style>\n",
       "<table border=\"1\" class=\"dataframe\">\n",
       "  <thead>\n",
       "    <tr style=\"text-align: right;\">\n",
       "      <th></th>\n",
       "      <th>userId</th>\n",
       "      <th>movieId</th>\n",
       "      <th>rating</th>\n",
       "      <th>timestamp</th>\n",
       "      <th>imdbId</th>\n",
       "      <th>tmdbId</th>\n",
       "      <th>title</th>\n",
       "      <th>genres</th>\n",
       "      <th>release_date</th>\n",
       "    </tr>\n",
       "  </thead>\n",
       "  <tbody>\n",
       "    <tr>\n",
       "      <th>0</th>\n",
       "      <td>1</td>\n",
       "      <td>31</td>\n",
       "      <td>2.5</td>\n",
       "      <td>1260759144</td>\n",
       "      <td>112792</td>\n",
       "      <td>9909</td>\n",
       "      <td>Dangerous Minds</td>\n",
       "      <td>[{'id': 18, 'name': 'Drama'}, {'id': 80, 'name...</td>\n",
       "      <td>1995</td>\n",
       "    </tr>\n",
       "    <tr>\n",
       "      <th>1</th>\n",
       "      <td>7</td>\n",
       "      <td>31</td>\n",
       "      <td>3.0</td>\n",
       "      <td>851868750</td>\n",
       "      <td>112792</td>\n",
       "      <td>9909</td>\n",
       "      <td>Dangerous Minds</td>\n",
       "      <td>[{'id': 18, 'name': 'Drama'}, {'id': 80, 'name...</td>\n",
       "      <td>1995</td>\n",
       "    </tr>\n",
       "    <tr>\n",
       "      <th>2</th>\n",
       "      <td>31</td>\n",
       "      <td>31</td>\n",
       "      <td>4.0</td>\n",
       "      <td>1273541953</td>\n",
       "      <td>112792</td>\n",
       "      <td>9909</td>\n",
       "      <td>Dangerous Minds</td>\n",
       "      <td>[{'id': 18, 'name': 'Drama'}, {'id': 80, 'name...</td>\n",
       "      <td>1995</td>\n",
       "    </tr>\n",
       "  </tbody>\n",
       "</table>\n",
       "</div>"
      ],
      "text/plain": [
       "   userId  movieId  rating   timestamp  imdbId  tmdbId            title  \\\n",
       "0       1       31     2.5  1260759144  112792    9909  Dangerous Minds   \n",
       "1       7       31     3.0   851868750  112792    9909  Dangerous Minds   \n",
       "2      31       31     4.0  1273541953  112792    9909  Dangerous Minds   \n",
       "\n",
       "                                              genres  release_date  \n",
       "0  [{'id': 18, 'name': 'Drama'}, {'id': 80, 'name...          1995  \n",
       "1  [{'id': 18, 'name': 'Drama'}, {'id': 80, 'name...          1995  \n",
       "2  [{'id': 18, 'name': 'Drama'}, {'id': 80, 'name...          1995  "
      ]
     },
     "execution_count": 46,
     "metadata": {},
     "output_type": "execute_result"
    }
   ],
   "source": [
    "df_rated_movies.head(3)"
   ]
  },
  {
   "cell_type": "code",
   "execution_count": 47,
   "id": "a5ae8fc8",
   "metadata": {},
   "outputs": [],
   "source": [
    "# group by 'release_date' and count 'title'\n",
    "average_ratings = df_rated_movies.groupby('release_date')['title'].count()"
   ]
  },
  {
   "cell_type": "code",
   "execution_count": 48,
   "id": "40e6e74b",
   "metadata": {},
   "outputs": [
    {
     "data": {
      "text/plain": [
       "release_date\n",
       "1995    6562\n",
       "1994    5911\n",
       "1996    5074\n",
       "1999    5070\n",
       "1993    4180\n",
       "        ... \n",
       "1918       2\n",
       "1917       2\n",
       "1915       2\n",
       "1919       1\n",
       "1916       1\n",
       "Name: title, Length: 103, dtype: int64"
      ]
     },
     "execution_count": 48,
     "metadata": {},
     "output_type": "execute_result"
    }
   ],
   "source": [
    "average_ratings.sort_values(ascending=False)"
   ]
  },
  {
   "cell_type": "markdown",
   "id": "d0c66589",
   "metadata": {},
   "source": [
    "# 6. Print the number of movies in each genre."
   ]
  },
  {
   "cell_type": "code",
   "execution_count": 49,
   "id": "543359e4",
   "metadata": {},
   "outputs": [],
   "source": [
    "# Apply the function 'extract_genre_names' to 'genres' column \n",
    "df_rated_movies['genre_names'] = df_rated_movies['genres'].apply(extract_from_json)\n",
    "\n",
    "# Explode the list of genre names to create multiple rows for each movie\n",
    "# Transform each element of a list-like to a row, replicating index values.\n",
    "df_exploded = df_rated_movies.explode('genre_names')"
   ]
  },
  {
   "cell_type": "code",
   "execution_count": 50,
   "id": "3a41c28c",
   "metadata": {},
   "outputs": [
    {
     "data": {
      "text/html": [
       "<div>\n",
       "<style scoped>\n",
       "    .dataframe tbody tr th:only-of-type {\n",
       "        vertical-align: middle;\n",
       "    }\n",
       "\n",
       "    .dataframe tbody tr th {\n",
       "        vertical-align: top;\n",
       "    }\n",
       "\n",
       "    .dataframe thead th {\n",
       "        text-align: right;\n",
       "    }\n",
       "</style>\n",
       "<table border=\"1\" class=\"dataframe\">\n",
       "  <thead>\n",
       "    <tr style=\"text-align: right;\">\n",
       "      <th></th>\n",
       "      <th>userId</th>\n",
       "      <th>movieId</th>\n",
       "      <th>rating</th>\n",
       "      <th>timestamp</th>\n",
       "      <th>imdbId</th>\n",
       "      <th>tmdbId</th>\n",
       "      <th>title</th>\n",
       "      <th>genres</th>\n",
       "      <th>release_date</th>\n",
       "      <th>genre_names</th>\n",
       "    </tr>\n",
       "  </thead>\n",
       "  <tbody>\n",
       "    <tr>\n",
       "      <th>0</th>\n",
       "      <td>1</td>\n",
       "      <td>31</td>\n",
       "      <td>2.5</td>\n",
       "      <td>1260759144</td>\n",
       "      <td>112792</td>\n",
       "      <td>9909</td>\n",
       "      <td>Dangerous Minds</td>\n",
       "      <td>[{'id': 18, 'name': 'Drama'}, {'id': 80, 'name...</td>\n",
       "      <td>1995</td>\n",
       "      <td>Drama</td>\n",
       "    </tr>\n",
       "    <tr>\n",
       "      <th>0</th>\n",
       "      <td>1</td>\n",
       "      <td>31</td>\n",
       "      <td>2.5</td>\n",
       "      <td>1260759144</td>\n",
       "      <td>112792</td>\n",
       "      <td>9909</td>\n",
       "      <td>Dangerous Minds</td>\n",
       "      <td>[{'id': 18, 'name': 'Drama'}, {'id': 80, 'name...</td>\n",
       "      <td>1995</td>\n",
       "      <td>Crime</td>\n",
       "    </tr>\n",
       "    <tr>\n",
       "      <th>1</th>\n",
       "      <td>7</td>\n",
       "      <td>31</td>\n",
       "      <td>3.0</td>\n",
       "      <td>851868750</td>\n",
       "      <td>112792</td>\n",
       "      <td>9909</td>\n",
       "      <td>Dangerous Minds</td>\n",
       "      <td>[{'id': 18, 'name': 'Drama'}, {'id': 80, 'name...</td>\n",
       "      <td>1995</td>\n",
       "      <td>Drama</td>\n",
       "    </tr>\n",
       "    <tr>\n",
       "      <th>1</th>\n",
       "      <td>7</td>\n",
       "      <td>31</td>\n",
       "      <td>3.0</td>\n",
       "      <td>851868750</td>\n",
       "      <td>112792</td>\n",
       "      <td>9909</td>\n",
       "      <td>Dangerous Minds</td>\n",
       "      <td>[{'id': 18, 'name': 'Drama'}, {'id': 80, 'name...</td>\n",
       "      <td>1995</td>\n",
       "      <td>Crime</td>\n",
       "    </tr>\n",
       "    <tr>\n",
       "      <th>2</th>\n",
       "      <td>31</td>\n",
       "      <td>31</td>\n",
       "      <td>4.0</td>\n",
       "      <td>1273541953</td>\n",
       "      <td>112792</td>\n",
       "      <td>9909</td>\n",
       "      <td>Dangerous Minds</td>\n",
       "      <td>[{'id': 18, 'name': 'Drama'}, {'id': 80, 'name...</td>\n",
       "      <td>1995</td>\n",
       "      <td>Drama</td>\n",
       "    </tr>\n",
       "  </tbody>\n",
       "</table>\n",
       "</div>"
      ],
      "text/plain": [
       "   userId  movieId  rating   timestamp  imdbId  tmdbId            title  \\\n",
       "0       1       31     2.5  1260759144  112792    9909  Dangerous Minds   \n",
       "0       1       31     2.5  1260759144  112792    9909  Dangerous Minds   \n",
       "1       7       31     3.0   851868750  112792    9909  Dangerous Minds   \n",
       "1       7       31     3.0   851868750  112792    9909  Dangerous Minds   \n",
       "2      31       31     4.0  1273541953  112792    9909  Dangerous Minds   \n",
       "\n",
       "                                              genres  release_date genre_names  \n",
       "0  [{'id': 18, 'name': 'Drama'}, {'id': 80, 'name...          1995       Drama  \n",
       "0  [{'id': 18, 'name': 'Drama'}, {'id': 80, 'name...          1995       Crime  \n",
       "1  [{'id': 18, 'name': 'Drama'}, {'id': 80, 'name...          1995       Drama  \n",
       "1  [{'id': 18, 'name': 'Drama'}, {'id': 80, 'name...          1995       Crime  \n",
       "2  [{'id': 18, 'name': 'Drama'}, {'id': 80, 'name...          1995       Drama  "
      ]
     },
     "execution_count": 50,
     "metadata": {},
     "output_type": "execute_result"
    }
   ],
   "source": [
    "df_exploded.head(5)"
   ]
  },
  {
   "cell_type": "code",
   "execution_count": 51,
   "id": "0f2dc1ba",
   "metadata": {},
   "outputs": [
    {
     "name": "stdout",
     "output_type": "stream",
     "text": [
      "genre_names\n",
      "Action             25655\n",
      "Adventure          21887\n",
      "Animation           6123\n",
      "Comedy             35893\n",
      "Crime              17495\n",
      "Documentary         1454\n",
      "Drama              47067\n",
      "Family             11868\n",
      "Fantasy            12517\n",
      "Foreign              202\n",
      "History             3968\n",
      "Horror              6140\n",
      "Music               3915\n",
      "Mystery             8803\n",
      "Romance            18855\n",
      "Science Fiction    15153\n",
      "TV Movie              59\n",
      "Thriller           25579\n",
      "War                 3778\n",
      "Western             1610\n",
      "Name: movieId, dtype: int64\n"
     ]
    }
   ],
   "source": [
    "# Movie genres: Counts\n",
    "genre_counts = df_exploded.groupby('genre_names')[\"movieId\"].count()\n",
    "print(genre_counts)"
   ]
  },
  {
   "cell_type": "markdown",
   "id": "826c2aa3",
   "metadata": {},
   "source": [
    "# 7. Save the dataset to a JSON file."
   ]
  },
  {
   "cell_type": "code",
   "execution_count": 52,
   "id": "72212171",
   "metadata": {},
   "outputs": [],
   "source": [
    "df_exploded.reset_index(inplace=True, drop=False)"
   ]
  },
  {
   "cell_type": "code",
   "execution_count": 53,
   "id": "97d1b6bf",
   "metadata": {},
   "outputs": [
    {
     "data": {
      "text/html": [
       "<div>\n",
       "<style scoped>\n",
       "    .dataframe tbody tr th:only-of-type {\n",
       "        vertical-align: middle;\n",
       "    }\n",
       "\n",
       "    .dataframe tbody tr th {\n",
       "        vertical-align: top;\n",
       "    }\n",
       "\n",
       "    .dataframe thead th {\n",
       "        text-align: right;\n",
       "    }\n",
       "</style>\n",
       "<table border=\"1\" class=\"dataframe\">\n",
       "  <thead>\n",
       "    <tr style=\"text-align: right;\">\n",
       "      <th></th>\n",
       "      <th>index</th>\n",
       "      <th>userId</th>\n",
       "      <th>movieId</th>\n",
       "      <th>rating</th>\n",
       "      <th>timestamp</th>\n",
       "      <th>imdbId</th>\n",
       "      <th>tmdbId</th>\n",
       "      <th>title</th>\n",
       "      <th>genres</th>\n",
       "      <th>release_date</th>\n",
       "      <th>genre_names</th>\n",
       "    </tr>\n",
       "  </thead>\n",
       "  <tbody>\n",
       "    <tr>\n",
       "      <th>0</th>\n",
       "      <td>0</td>\n",
       "      <td>1</td>\n",
       "      <td>31</td>\n",
       "      <td>2.5</td>\n",
       "      <td>1260759144</td>\n",
       "      <td>112792</td>\n",
       "      <td>9909</td>\n",
       "      <td>Dangerous Minds</td>\n",
       "      <td>[{'id': 18, 'name': 'Drama'}, {'id': 80, 'name...</td>\n",
       "      <td>1995</td>\n",
       "      <td>Drama</td>\n",
       "    </tr>\n",
       "    <tr>\n",
       "      <th>1</th>\n",
       "      <td>0</td>\n",
       "      <td>1</td>\n",
       "      <td>31</td>\n",
       "      <td>2.5</td>\n",
       "      <td>1260759144</td>\n",
       "      <td>112792</td>\n",
       "      <td>9909</td>\n",
       "      <td>Dangerous Minds</td>\n",
       "      <td>[{'id': 18, 'name': 'Drama'}, {'id': 80, 'name...</td>\n",
       "      <td>1995</td>\n",
       "      <td>Crime</td>\n",
       "    </tr>\n",
       "    <tr>\n",
       "      <th>2</th>\n",
       "      <td>1</td>\n",
       "      <td>7</td>\n",
       "      <td>31</td>\n",
       "      <td>3.0</td>\n",
       "      <td>851868750</td>\n",
       "      <td>112792</td>\n",
       "      <td>9909</td>\n",
       "      <td>Dangerous Minds</td>\n",
       "      <td>[{'id': 18, 'name': 'Drama'}, {'id': 80, 'name...</td>\n",
       "      <td>1995</td>\n",
       "      <td>Drama</td>\n",
       "    </tr>\n",
       "    <tr>\n",
       "      <th>3</th>\n",
       "      <td>1</td>\n",
       "      <td>7</td>\n",
       "      <td>31</td>\n",
       "      <td>3.0</td>\n",
       "      <td>851868750</td>\n",
       "      <td>112792</td>\n",
       "      <td>9909</td>\n",
       "      <td>Dangerous Minds</td>\n",
       "      <td>[{'id': 18, 'name': 'Drama'}, {'id': 80, 'name...</td>\n",
       "      <td>1995</td>\n",
       "      <td>Crime</td>\n",
       "    </tr>\n",
       "    <tr>\n",
       "      <th>4</th>\n",
       "      <td>2</td>\n",
       "      <td>31</td>\n",
       "      <td>31</td>\n",
       "      <td>4.0</td>\n",
       "      <td>1273541953</td>\n",
       "      <td>112792</td>\n",
       "      <td>9909</td>\n",
       "      <td>Dangerous Minds</td>\n",
       "      <td>[{'id': 18, 'name': 'Drama'}, {'id': 80, 'name...</td>\n",
       "      <td>1995</td>\n",
       "      <td>Drama</td>\n",
       "    </tr>\n",
       "  </tbody>\n",
       "</table>\n",
       "</div>"
      ],
      "text/plain": [
       "   index  userId  movieId  rating   timestamp  imdbId  tmdbId  \\\n",
       "0      0       1       31     2.5  1260759144  112792    9909   \n",
       "1      0       1       31     2.5  1260759144  112792    9909   \n",
       "2      1       7       31     3.0   851868750  112792    9909   \n",
       "3      1       7       31     3.0   851868750  112792    9909   \n",
       "4      2      31       31     4.0  1273541953  112792    9909   \n",
       "\n",
       "             title                                             genres  \\\n",
       "0  Dangerous Minds  [{'id': 18, 'name': 'Drama'}, {'id': 80, 'name...   \n",
       "1  Dangerous Minds  [{'id': 18, 'name': 'Drama'}, {'id': 80, 'name...   \n",
       "2  Dangerous Minds  [{'id': 18, 'name': 'Drama'}, {'id': 80, 'name...   \n",
       "3  Dangerous Minds  [{'id': 18, 'name': 'Drama'}, {'id': 80, 'name...   \n",
       "4  Dangerous Minds  [{'id': 18, 'name': 'Drama'}, {'id': 80, 'name...   \n",
       "\n",
       "   release_date genre_names  \n",
       "0          1995       Drama  \n",
       "1          1995       Crime  \n",
       "2          1995       Drama  \n",
       "3          1995       Crime  \n",
       "4          1995       Drama  "
      ]
     },
     "execution_count": 53,
     "metadata": {},
     "output_type": "execute_result"
    }
   ],
   "source": [
    "df_exploded.head()"
   ]
  },
  {
   "cell_type": "code",
   "execution_count": 54,
   "id": "2e99f637",
   "metadata": {},
   "outputs": [],
   "source": [
    "my_path = 'C:/Users/Mihail/Downloads/archive/dataset_exploded.json'\n",
    "df_exploded.to_json(my_path, orient='index')"
   ]
  },
  {
   "cell_type": "markdown",
   "id": "b2e342a8",
   "metadata": {},
   "source": [
    "# 8. Upload the code in public GIT repository\n",
    "    \n",
    "Uploaded it to my public git repository - https://github.com/ArgentumZZ "
   ]
  },
  {
   "cell_type": "markdown",
   "id": "f2627caa",
   "metadata": {},
   "source": [
    "# 9. Provide setup.py or pyproject.toml\n",
    "\n",
    "    movie/\n",
    "    │    \n",
    "    ├── __init__.py\n",
    "    ├── setup.py\n",
    "    ├── movie/\n",
    "    │   ├── __init__.py\n",
    "    │   ├── functions.py\n",
    "    │   └── data_analysis.py\n",
    "    │\n",
    "    └── tests/\n",
    "        ├── __init__.py\n",
    "        └── unittests.py"
   ]
  },
  {
   "cell_type": "markdown",
   "id": "0f29b1d2",
   "metadata": {},
   "source": [
    "# 10. Write unittests (optional)"
   ]
  },
  {
   "cell_type": "code",
   "execution_count": null,
   "id": "eec7da97",
   "metadata": {},
   "outputs": [],
   "source": []
  }
 ],
 "metadata": {
  "kernelspec": {
   "display_name": "Python 3 (ipykernel)",
   "language": "python",
   "name": "python3"
  },
  "language_info": {
   "codemirror_mode": {
    "name": "ipython",
    "version": 3
   },
   "file_extension": ".py",
   "mimetype": "text/x-python",
   "name": "python",
   "nbconvert_exporter": "python",
   "pygments_lexer": "ipython3",
   "version": "3.10.6"
  }
 },
 "nbformat": 4,
 "nbformat_minor": 5
}
